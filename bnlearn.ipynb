{
  "nbformat": 4,
  "nbformat_minor": 0,
  "metadata": {
    "colab": {
      "name": "bnlearn2nd.ipynb",
      "provenance": [],
      "collapsed_sections": []
    },
    "kernelspec": {
      "name": "python3",
      "display_name": "Python 3"
    }
  },
  "cells": [
    {
      "cell_type": "code",
      "metadata": {
        "colab": {
          "base_uri": "https://localhost:8080/"
        },
        "id": "pfTPws7-LIT2",
        "outputId": "5d4a5a1a-4489-40ed-a41a-0e866bc050dd"
      },
      "source": [
        "!pip install xlrd pandas\n",
        "!pip install bnlearn"
      ],
      "execution_count": null,
      "outputs": [
        {
          "output_type": "stream",
          "text": [
            "Requirement already satisfied: xlrd in /usr/local/lib/python3.6/dist-packages (1.1.0)\n",
            "Requirement already satisfied: pandas in /usr/local/lib/python3.6/dist-packages (1.1.5)\n",
            "Requirement already satisfied: python-dateutil>=2.7.3 in /usr/local/lib/python3.6/dist-packages (from pandas) (2.8.1)\n",
            "Requirement already satisfied: pytz>=2017.2 in /usr/local/lib/python3.6/dist-packages (from pandas) (2018.9)\n",
            "Requirement already satisfied: numpy>=1.15.4 in /usr/local/lib/python3.6/dist-packages (from pandas) (1.19.5)\n",
            "Requirement already satisfied: six>=1.5 in /usr/local/lib/python3.6/dist-packages (from python-dateutil>=2.7.3->pandas) (1.15.0)\n",
            "Requirement already satisfied: bnlearn in /usr/local/lib/python3.6/dist-packages (0.3.14)\n",
            "Requirement already satisfied: tqdm in /usr/local/lib/python3.6/dist-packages (from bnlearn) (4.41.1)\n",
            "Requirement already satisfied: pandas in /usr/local/lib/python3.6/dist-packages (from bnlearn) (1.1.5)\n",
            "Requirement already satisfied: sklearn in /usr/local/lib/python3.6/dist-packages (from bnlearn) (0.0)\n",
            "Requirement already satisfied: ismember in /usr/local/lib/python3.6/dist-packages (from bnlearn) (0.1.3)\n",
            "Requirement already satisfied: matplotlib>=3.3.4 in /usr/local/lib/python3.6/dist-packages (from bnlearn) (3.3.4)\n",
            "Requirement already satisfied: funcsigs in /usr/local/lib/python3.6/dist-packages (from bnlearn) (1.0.2)\n",
            "Requirement already satisfied: networkx>=2.5 in /usr/local/lib/python3.6/dist-packages (from bnlearn) (2.5)\n",
            "Requirement already satisfied: df2onehot in /usr/local/lib/python3.6/dist-packages (from bnlearn) (0.2.15)\n",
            "Requirement already satisfied: wget in /usr/local/lib/python3.6/dist-packages (from bnlearn) (3.2)\n",
            "Requirement already satisfied: community in /usr/local/lib/python3.6/dist-packages (from bnlearn) (1.0.0b1)\n",
            "Requirement already satisfied: numpy in /usr/local/lib/python3.6/dist-packages (from bnlearn) (1.19.5)\n",
            "Requirement already satisfied: packaging in /usr/local/lib/python3.6/dist-packages (from bnlearn) (20.9)\n",
            "Requirement already satisfied: pgmpy>=0.1.13 in /usr/local/lib/python3.6/dist-packages (from bnlearn) (0.1.13)\n",
            "Requirement already satisfied: statsmodels in /usr/local/lib/python3.6/dist-packages (from bnlearn) (0.10.2)\n",
            "Requirement already satisfied: python-dateutil>=2.7.3 in /usr/local/lib/python3.6/dist-packages (from pandas->bnlearn) (2.8.1)\n",
            "Requirement already satisfied: pytz>=2017.2 in /usr/local/lib/python3.6/dist-packages (from pandas->bnlearn) (2018.9)\n",
            "Requirement already satisfied: scikit-learn in /usr/local/lib/python3.6/dist-packages (from sklearn->bnlearn) (0.22.2.post1)\n",
            "Requirement already satisfied: kiwisolver>=1.0.1 in /usr/local/lib/python3.6/dist-packages (from matplotlib>=3.3.4->bnlearn) (1.3.1)\n",
            "Requirement already satisfied: pyparsing!=2.0.4,!=2.1.2,!=2.1.6,>=2.0.3 in /usr/local/lib/python3.6/dist-packages (from matplotlib>=3.3.4->bnlearn) (2.4.7)\n",
            "Requirement already satisfied: cycler>=0.10 in /usr/local/lib/python3.6/dist-packages (from matplotlib>=3.3.4->bnlearn) (0.10.0)\n",
            "Requirement already satisfied: pillow>=6.2.0 in /usr/local/lib/python3.6/dist-packages (from matplotlib>=3.3.4->bnlearn) (7.0.0)\n",
            "Requirement already satisfied: decorator>=4.3.0 in /usr/local/lib/python3.6/dist-packages (from networkx>=2.5->bnlearn) (4.4.2)\n",
            "Requirement already satisfied: requests in /usr/local/lib/python3.6/dist-packages (from community->bnlearn) (2.23.0)\n",
            "Requirement already satisfied: Flask in /usr/local/lib/python3.6/dist-packages (from community->bnlearn) (1.1.2)\n",
            "Requirement already satisfied: torch in /usr/local/lib/python3.6/dist-packages (from pgmpy>=0.1.13->bnlearn) (1.7.0+cu101)\n",
            "Requirement already satisfied: scipy in /usr/local/lib/python3.6/dist-packages (from pgmpy>=0.1.13->bnlearn) (1.4.1)\n",
            "Requirement already satisfied: joblib in /usr/local/lib/python3.6/dist-packages (from pgmpy>=0.1.13->bnlearn) (1.0.0)\n",
            "Requirement already satisfied: patsy>=0.4.0 in /usr/local/lib/python3.6/dist-packages (from statsmodels->bnlearn) (0.5.1)\n",
            "Requirement already satisfied: six>=1.5 in /usr/local/lib/python3.6/dist-packages (from python-dateutil>=2.7.3->pandas->bnlearn) (1.15.0)\n",
            "Requirement already satisfied: certifi>=2017.4.17 in /usr/local/lib/python3.6/dist-packages (from requests->community->bnlearn) (2020.12.5)\n",
            "Requirement already satisfied: chardet<4,>=3.0.2 in /usr/local/lib/python3.6/dist-packages (from requests->community->bnlearn) (3.0.4)\n",
            "Requirement already satisfied: urllib3!=1.25.0,!=1.25.1,<1.26,>=1.21.1 in /usr/local/lib/python3.6/dist-packages (from requests->community->bnlearn) (1.24.3)\n",
            "Requirement already satisfied: idna<3,>=2.5 in /usr/local/lib/python3.6/dist-packages (from requests->community->bnlearn) (2.10)\n",
            "Requirement already satisfied: itsdangerous>=0.24 in /usr/local/lib/python3.6/dist-packages (from Flask->community->bnlearn) (1.1.0)\n",
            "Requirement already satisfied: click>=5.1 in /usr/local/lib/python3.6/dist-packages (from Flask->community->bnlearn) (7.1.2)\n",
            "Requirement already satisfied: Werkzeug>=0.15 in /usr/local/lib/python3.6/dist-packages (from Flask->community->bnlearn) (1.0.1)\n",
            "Requirement already satisfied: Jinja2>=2.10.1 in /usr/local/lib/python3.6/dist-packages (from Flask->community->bnlearn) (2.11.3)\n",
            "Requirement already satisfied: future in /usr/local/lib/python3.6/dist-packages (from torch->pgmpy>=0.1.13->bnlearn) (0.16.0)\n",
            "Requirement already satisfied: dataclasses in /usr/local/lib/python3.6/dist-packages (from torch->pgmpy>=0.1.13->bnlearn) (0.8)\n",
            "Requirement already satisfied: typing-extensions in /usr/local/lib/python3.6/dist-packages (from torch->pgmpy>=0.1.13->bnlearn) (3.7.4.3)\n",
            "Requirement already satisfied: MarkupSafe>=0.23 in /usr/local/lib/python3.6/dist-packages (from Jinja2>=2.10.1->Flask->community->bnlearn) (1.1.1)\n"
          ],
          "name": "stdout"
        }
      ]
    },
    {
      "cell_type": "code",
      "metadata": {
        "colab": {
          "resources": {
            "http://localhost:8080/nbextensions/google.colab/files.js": {
              "data": "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",
              "ok": true,
              "headers": [
                [
                  "content-type",
                  "application/javascript"
                ]
              ],
              "status": 200,
              "status_text": ""
            }
          },
          "base_uri": "https://localhost:8080/",
          "height": 72
        },
        "id": "1AJpEAbnMDlI",
        "outputId": "ebf58a90-3439-478f-d673-19519d5da6cd"
      },
      "source": [
        "import bnlearn as bn\n",
        "import pandas as pd\n",
        "import io\n",
        "from google.colab import files\n",
        "uploaded = files.upload()"
      ],
      "execution_count": null,
      "outputs": [
        {
          "output_type": "display_data",
          "data": {
            "text/html": [
              "\n",
              "     <input type=\"file\" id=\"files-b8d92c36-abac-4967-8995-37ae93d41b4d\" name=\"files[]\" multiple disabled\n",
              "        style=\"border:none\" />\n",
              "     <output id=\"result-b8d92c36-abac-4967-8995-37ae93d41b4d\">\n",
              "      Upload widget is only available when the cell has been executed in the\n",
              "      current browser session. Please rerun this cell to enable.\n",
              "      </output>\n",
              "      <script src=\"/nbextensions/google.colab/files.js\"></script> "
            ],
            "text/plain": [
              "<IPython.core.display.HTML object>"
            ]
          },
          "metadata": {
            "tags": []
          }
        },
        {
          "output_type": "stream",
          "text": [
            "Saving smart_grid.csv to smart_grid (4).csv\n"
          ],
          "name": "stdout"
        }
      ]
    },
    {
      "cell_type": "code",
      "metadata": {
        "colab": {
          "base_uri": "https://localhost:8080/",
          "height": 255
        },
        "id": "EKIVPlD0LVPz",
        "outputId": "be9d704b-2c94-43d4-92d4-c57bbaa4140b"
      },
      "source": [
        "df = pd.read_csv(io.StringIO(uploaded['smart_grid.csv'].decode('utf-8')))\n",
        "print(df.columns)\n",
        "df.head()"
      ],
      "execution_count": null,
      "outputs": [
        {
          "output_type": "stream",
          "text": [
            "Index(['Season', 'Outage_Duration', 'Number_of_Customers', 'Overload',\n",
            "       'Weather', 'Time', 'Demand_Factor', 'Day'],\n",
            "      dtype='object')\n"
          ],
          "name": "stdout"
        },
        {
          "output_type": "execute_result",
          "data": {
            "text/html": [
              "<div>\n",
              "<style scoped>\n",
              "    .dataframe tbody tr th:only-of-type {\n",
              "        vertical-align: middle;\n",
              "    }\n",
              "\n",
              "    .dataframe tbody tr th {\n",
              "        vertical-align: top;\n",
              "    }\n",
              "\n",
              "    .dataframe thead th {\n",
              "        text-align: right;\n",
              "    }\n",
              "</style>\n",
              "<table border=\"1\" class=\"dataframe\">\n",
              "  <thead>\n",
              "    <tr style=\"text-align: right;\">\n",
              "      <th></th>\n",
              "      <th>Season</th>\n",
              "      <th>Outage_Duration</th>\n",
              "      <th>Number_of_Customers</th>\n",
              "      <th>Overload</th>\n",
              "      <th>Weather</th>\n",
              "      <th>Time</th>\n",
              "      <th>Demand_Factor</th>\n",
              "      <th>Day</th>\n",
              "    </tr>\n",
              "  </thead>\n",
              "  <tbody>\n",
              "    <tr>\n",
              "      <th>0</th>\n",
              "      <td>Autumn</td>\n",
              "      <td>Less_than_1H</td>\n",
              "      <td>Low</td>\n",
              "      <td>Yes</td>\n",
              "      <td>0</td>\n",
              "      <td>Morning</td>\n",
              "      <td>Low</td>\n",
              "      <td>Weekdays</td>\n",
              "    </tr>\n",
              "    <tr>\n",
              "      <th>1</th>\n",
              "      <td>Winter</td>\n",
              "      <td>Less_than_1H</td>\n",
              "      <td>Low</td>\n",
              "      <td>No</td>\n",
              "      <td>0</td>\n",
              "      <td>Evening</td>\n",
              "      <td>Low</td>\n",
              "      <td>Weekdays</td>\n",
              "    </tr>\n",
              "    <tr>\n",
              "      <th>2</th>\n",
              "      <td>Spring</td>\n",
              "      <td>More_than_1H</td>\n",
              "      <td>Low</td>\n",
              "      <td>No</td>\n",
              "      <td>0</td>\n",
              "      <td>Evening</td>\n",
              "      <td>Low</td>\n",
              "      <td>Weekdays</td>\n",
              "    </tr>\n",
              "    <tr>\n",
              "      <th>3</th>\n",
              "      <td>Winter</td>\n",
              "      <td>Less_than_1H</td>\n",
              "      <td>High</td>\n",
              "      <td>No</td>\n",
              "      <td>1</td>\n",
              "      <td>Morning</td>\n",
              "      <td>Low</td>\n",
              "      <td>Weekdays</td>\n",
              "    </tr>\n",
              "    <tr>\n",
              "      <th>4</th>\n",
              "      <td>Spring</td>\n",
              "      <td>More_than_1H</td>\n",
              "      <td>Low</td>\n",
              "      <td>No</td>\n",
              "      <td>0</td>\n",
              "      <td>Morning</td>\n",
              "      <td>Low</td>\n",
              "      <td>Weekend</td>\n",
              "    </tr>\n",
              "  </tbody>\n",
              "</table>\n",
              "</div>"
            ],
            "text/plain": [
              "   Season Outage_Duration Number_of_Customers  ...     Time  Demand_Factor       Day\n",
              "0  Autumn    Less_than_1H                 Low  ...  Morning            Low  Weekdays\n",
              "1  Winter    Less_than_1H                 Low  ...  Evening            Low  Weekdays\n",
              "2  Spring    More_than_1H                 Low  ...  Evening            Low  Weekdays\n",
              "3  Winter    Less_than_1H                High  ...  Morning            Low  Weekdays\n",
              "4  Spring    More_than_1H                 Low  ...  Morning            Low   Weekend\n",
              "\n",
              "[5 rows x 8 columns]"
            ]
          },
          "metadata": {
            "tags": []
          },
          "execution_count": 79
        }
      ]
    },
    {
      "cell_type": "code",
      "metadata": {
        "colab": {
          "base_uri": "https://localhost:8080/"
        },
        "id": "L-ECE1yLQ6qS",
        "outputId": "578a2e90-12ea-4fc5-8eff-f11f2e2e5eed"
      },
      "source": [
        "df[\"Weather\"].describe()"
      ],
      "execution_count": null,
      "outputs": [
        {
          "output_type": "execute_result",
          "data": {
            "text/plain": [
              "count    700.000000\n",
              "mean       0.391429\n",
              "std        0.488419\n",
              "min        0.000000\n",
              "25%        0.000000\n",
              "50%        0.000000\n",
              "75%        1.000000\n",
              "max        1.000000\n",
              "Name: Weather, dtype: float64"
            ]
          },
          "metadata": {
            "tags": []
          },
          "execution_count": 80
        }
      ]
    },
    {
      "cell_type": "code",
      "metadata": {
        "colab": {
          "base_uri": "https://localhost:8080/",
          "height": 514
        },
        "id": "jrYsr3d0Lmil",
        "outputId": "84db8866-bc7a-4f51-8a6d-2767890aa7bd"
      },
      "source": [
        "dSeason={\"Autumn\":0,\"Winter\":1,\"Spring\":2,\"Summer\":3}\n",
        "df[\"Season\"]=df[\"Season\"].map(dSeason)\n",
        "\n",
        "dOutage_Duration={\"Less_than_1H\":0,\"More_than_1H\":1}\n",
        "df[\"Outage_Duration\"]=df[\"Outage_Duration\"].map(dOutage_Duration)\n",
        "\n",
        "dNumber_of_Customers={\"Low\":0,\"High\":1}\n",
        "df[\"Number_of_Customers\"]=df[\"Number_of_Customers\"].map(dNumber_of_Customers)\n",
        "\n",
        "dOverload={\"No\":0,\"Yes\":1}\n",
        "df[\"Overload\"]=df[\"Overload\"].map(dOverload)\n",
        "\n",
        "dTime={\"Morning\":0,\"Afternoon\":1,\"Evening\":2,\"Night\":3}\n",
        "df[\"Time\"]=df[\"Time\"].map(dTime)\n",
        "\n",
        "#df[\"Weather\"]=df[\"Weather\"].map({\"Cold\":0,\"Warm\":1})\n",
        "#df.head()\n",
        "\n",
        "dDemand_Factor={\"Low\":0,\"Medium\":1,\"High\":2}\n",
        "df[\"Demand_Factor\"]=df[\"Demand_Factor\"].map(dDemand_Factor)\n",
        "\n",
        "dDay={\"Weekend\":0,\"Weekdays\":1}\n",
        "df[\"Day\"]=df[\"Day\"].map(dDay)\n",
        "\n",
        "df.head(10)"
      ],
      "execution_count": null,
      "outputs": [
        {
          "output_type": "execute_result",
          "data": {
            "text/html": [
              "<div>\n",
              "<style scoped>\n",
              "    .dataframe tbody tr th:only-of-type {\n",
              "        vertical-align: middle;\n",
              "    }\n",
              "\n",
              "    .dataframe tbody tr th {\n",
              "        vertical-align: top;\n",
              "    }\n",
              "\n",
              "    .dataframe thead th {\n",
              "        text-align: right;\n",
              "    }\n",
              "</style>\n",
              "<table border=\"1\" class=\"dataframe\">\n",
              "  <thead>\n",
              "    <tr style=\"text-align: right;\">\n",
              "      <th></th>\n",
              "      <th>Season</th>\n",
              "      <th>Outage_Duration</th>\n",
              "      <th>Number_of_Customers</th>\n",
              "      <th>Overload</th>\n",
              "      <th>Weather</th>\n",
              "      <th>Time</th>\n",
              "      <th>Demand_Factor</th>\n",
              "      <th>Day</th>\n",
              "    </tr>\n",
              "  </thead>\n",
              "  <tbody>\n",
              "    <tr>\n",
              "      <th>0</th>\n",
              "      <td>0</td>\n",
              "      <td>0</td>\n",
              "      <td>0</td>\n",
              "      <td>1</td>\n",
              "      <td>0</td>\n",
              "      <td>0</td>\n",
              "      <td>0</td>\n",
              "      <td>1</td>\n",
              "    </tr>\n",
              "    <tr>\n",
              "      <th>1</th>\n",
              "      <td>1</td>\n",
              "      <td>0</td>\n",
              "      <td>0</td>\n",
              "      <td>0</td>\n",
              "      <td>0</td>\n",
              "      <td>2</td>\n",
              "      <td>0</td>\n",
              "      <td>1</td>\n",
              "    </tr>\n",
              "    <tr>\n",
              "      <th>2</th>\n",
              "      <td>2</td>\n",
              "      <td>1</td>\n",
              "      <td>0</td>\n",
              "      <td>0</td>\n",
              "      <td>0</td>\n",
              "      <td>2</td>\n",
              "      <td>0</td>\n",
              "      <td>1</td>\n",
              "    </tr>\n",
              "    <tr>\n",
              "      <th>3</th>\n",
              "      <td>1</td>\n",
              "      <td>0</td>\n",
              "      <td>1</td>\n",
              "      <td>0</td>\n",
              "      <td>1</td>\n",
              "      <td>0</td>\n",
              "      <td>0</td>\n",
              "      <td>1</td>\n",
              "    </tr>\n",
              "    <tr>\n",
              "      <th>4</th>\n",
              "      <td>2</td>\n",
              "      <td>1</td>\n",
              "      <td>0</td>\n",
              "      <td>0</td>\n",
              "      <td>0</td>\n",
              "      <td>0</td>\n",
              "      <td>0</td>\n",
              "      <td>0</td>\n",
              "    </tr>\n",
              "    <tr>\n",
              "      <th>5</th>\n",
              "      <td>1</td>\n",
              "      <td>1</td>\n",
              "      <td>0</td>\n",
              "      <td>0</td>\n",
              "      <td>0</td>\n",
              "      <td>0</td>\n",
              "      <td>1</td>\n",
              "      <td>1</td>\n",
              "    </tr>\n",
              "    <tr>\n",
              "      <th>6</th>\n",
              "      <td>0</td>\n",
              "      <td>1</td>\n",
              "      <td>0</td>\n",
              "      <td>0</td>\n",
              "      <td>1</td>\n",
              "      <td>2</td>\n",
              "      <td>0</td>\n",
              "      <td>1</td>\n",
              "    </tr>\n",
              "    <tr>\n",
              "      <th>7</th>\n",
              "      <td>2</td>\n",
              "      <td>1</td>\n",
              "      <td>0</td>\n",
              "      <td>0</td>\n",
              "      <td>0</td>\n",
              "      <td>2</td>\n",
              "      <td>2</td>\n",
              "      <td>0</td>\n",
              "    </tr>\n",
              "    <tr>\n",
              "      <th>8</th>\n",
              "      <td>3</td>\n",
              "      <td>0</td>\n",
              "      <td>0</td>\n",
              "      <td>1</td>\n",
              "      <td>1</td>\n",
              "      <td>2</td>\n",
              "      <td>2</td>\n",
              "      <td>0</td>\n",
              "    </tr>\n",
              "    <tr>\n",
              "      <th>9</th>\n",
              "      <td>1</td>\n",
              "      <td>1</td>\n",
              "      <td>1</td>\n",
              "      <td>0</td>\n",
              "      <td>0</td>\n",
              "      <td>3</td>\n",
              "      <td>0</td>\n",
              "      <td>1</td>\n",
              "    </tr>\n",
              "    <tr>\n",
              "      <th>10</th>\n",
              "      <td>0</td>\n",
              "      <td>0</td>\n",
              "      <td>0</td>\n",
              "      <td>1</td>\n",
              "      <td>0</td>\n",
              "      <td>3</td>\n",
              "      <td>0</td>\n",
              "      <td>0</td>\n",
              "    </tr>\n",
              "    <tr>\n",
              "      <th>11</th>\n",
              "      <td>2</td>\n",
              "      <td>0</td>\n",
              "      <td>1</td>\n",
              "      <td>1</td>\n",
              "      <td>0</td>\n",
              "      <td>1</td>\n",
              "      <td>2</td>\n",
              "      <td>0</td>\n",
              "    </tr>\n",
              "    <tr>\n",
              "      <th>12</th>\n",
              "      <td>3</td>\n",
              "      <td>0</td>\n",
              "      <td>1</td>\n",
              "      <td>1</td>\n",
              "      <td>1</td>\n",
              "      <td>1</td>\n",
              "      <td>1</td>\n",
              "      <td>0</td>\n",
              "    </tr>\n",
              "    <tr>\n",
              "      <th>13</th>\n",
              "      <td>0</td>\n",
              "      <td>0</td>\n",
              "      <td>1</td>\n",
              "      <td>1</td>\n",
              "      <td>1</td>\n",
              "      <td>2</td>\n",
              "      <td>2</td>\n",
              "      <td>0</td>\n",
              "    </tr>\n",
              "    <tr>\n",
              "      <th>14</th>\n",
              "      <td>0</td>\n",
              "      <td>1</td>\n",
              "      <td>0</td>\n",
              "      <td>0</td>\n",
              "      <td>0</td>\n",
              "      <td>1</td>\n",
              "      <td>1</td>\n",
              "      <td>1</td>\n",
              "    </tr>\n",
              "  </tbody>\n",
              "</table>\n",
              "</div>"
            ],
            "text/plain": [
              "    Season  Outage_Duration  Number_of_Customers  ...  Time  Demand_Factor  Day\n",
              "0        0                0                    0  ...     0              0    1\n",
              "1        1                0                    0  ...     2              0    1\n",
              "2        2                1                    0  ...     2              0    1\n",
              "3        1                0                    1  ...     0              0    1\n",
              "4        2                1                    0  ...     0              0    0\n",
              "5        1                1                    0  ...     0              1    1\n",
              "6        0                1                    0  ...     2              0    1\n",
              "7        2                1                    0  ...     2              2    0\n",
              "8        3                0                    0  ...     2              2    0\n",
              "9        1                1                    1  ...     3              0    1\n",
              "10       0                0                    0  ...     3              0    0\n",
              "11       2                0                    1  ...     1              2    0\n",
              "12       3                0                    1  ...     1              1    0\n",
              "13       0                0                    1  ...     2              2    0\n",
              "14       0                1                    0  ...     1              1    1\n",
              "\n",
              "[15 rows x 8 columns]"
            ]
          },
          "metadata": {
            "tags": []
          },
          "execution_count": 81
        }
      ]
    },
    {
      "cell_type": "code",
      "metadata": {
        "colab": {
          "base_uri": "https://localhost:8080/",
          "height": 517
        },
        "id": "F2d7f19yiT7F",
        "outputId": "572966f5-bc52-4c8e-8661-2f6fd16586fb"
      },
      "source": [
        "model = bn.structure_learning.fit(df)\n",
        "\n",
        "G = bn.plot(model)"
      ],
      "execution_count": null,
      "outputs": [
        {
          "output_type": "stream",
          "text": [
            "[bnlearn] >Computing best DAG using [hc]\n",
            "[bnlearn] >Set scoring type at [bic]\n",
            "[bnlearn] >Plot based on BayesianModel\n"
          ],
          "name": "stdout"
        },
        {
          "output_type": "display_data",
          "data": {
            "image/png": "[encoded data removed]",
            "text/plain": [
              "<Figure size 1080x576 with 1 Axes>"
            ]
          },
          "metadata": {
            "tags": []
          }
        }
      ]
    },
    {
      "cell_type": "code",
      "metadata": {
        "colab": {
          "base_uri": "https://localhost:8080/",
          "height": 1000
        },
        "id": "PEdCQR6AimNk",
        "outputId": "f1fde44f-5c7a-46d6-fcd5-abede89a78cf"
      },
      "source": [
        "# learn the parameters of the DAG using the df\n",
        "model_update = bn.parameter_learning.fit(model, df, methodtype=\"bayes\")\n",
        "# Make plot\n",
        "G = bn.plot(model_update)"
      ],
      "execution_count": null,
      "outputs": [
        {
          "output_type": "stream",
          "text": [
            "[BNLEARN][PARAMETER LEARNING] Computing parameters using [bayes]\n",
            "[bnlearn] >Conversion of adjmat to BayesianModel.\n",
            "CPD of Number_of_Customers:\n",
            "+------------------------+----------+\n",
            "| Number_of_Customers(0) | 0.538824 |\n",
            "+------------------------+----------+\n",
            "| Number_of_Customers(1) | 0.461176 |\n",
            "+------------------------+----------+\n",
            "CPD of Overload:\n",
            "+---------------------+------------------------+------------------------+------------------------+------------------------+------------------------+------------------------+\n",
            "| Demand_Factor       | Demand_Factor(0)       | Demand_Factor(0)       | Demand_Factor(1)       | Demand_Factor(1)       | Demand_Factor(2)       | Demand_Factor(2)       |\n",
            "+---------------------+------------------------+------------------------+------------------------+------------------------+------------------------+------------------------+\n",
            "| Number_of_Customers | Number_of_Customers(0) | Number_of_Customers(1) | Number_of_Customers(0) | Number_of_Customers(1) | Number_of_Customers(0) | Number_of_Customers(1) |\n",
            "+---------------------+------------------------+------------------------+------------------------+------------------------+------------------------+------------------------+\n",
            "| Overload(0)         | 0.7356418918918919     | 0.5403659849300323     | 0.6346396965865992     | 0.44604316546762596    | 0.5291073738680466     | 0.3557692307692308     |\n",
            "+---------------------+------------------------+------------------------+------------------------+------------------------+------------------------+------------------------+\n",
            "| Overload(1)         | 0.2643581081081081     | 0.4596340150699677     | 0.3653603034134008     | 0.5539568345323741     | 0.4708926261319535     | 0.6442307692307693     |\n",
            "+---------------------+------------------------+------------------------+------------------------+------------------------+------------------------+------------------------+\n",
            "CPD of Outage_Duration:\n",
            "+--------------------+--------------------+--------------------+--------------------+---------------------+\n",
            "| Overload           | Overload(0)        | Overload(0)        | Overload(1)        | Overload(1)         |\n",
            "+--------------------+--------------------+--------------------+--------------------+---------------------+\n",
            "| Weather            | Weather(0)         | Weather(1)         | Weather(0)         | Weather(1)          |\n",
            "+--------------------+--------------------+--------------------+--------------------+---------------------+\n",
            "| Outage_Duration(0) | 0.3591682419659735 | 0.4431279620853081 | 0.5642317380352645 | 0.6136363636363636  |\n",
            "+--------------------+--------------------+--------------------+--------------------+---------------------+\n",
            "| Outage_Duration(1) | 0.6408317580340265 | 0.556872037914692  | 0.4357682619647355 | 0.38636363636363635 |\n",
            "+--------------------+--------------------+--------------------+--------------------+---------------------+\n",
            "CPD of Weather:\n",
            "+------------+----------+\n",
            "| Weather(0) | 0.544706 |\n",
            "+------------+----------+\n",
            "| Weather(1) | 0.455294 |\n",
            "+------------+----------+\n",
            "CPD of Season:\n",
            "+-----------+---------------------+---------------------+\n",
            "| Weather   | Weather(0)          | Weather(1)          |\n",
            "+-----------+---------------------+---------------------+\n",
            "| Season(0) | 0.26673866090712745 | 0.23772609819121446 |\n",
            "+-----------+---------------------+---------------------+\n",
            "| Season(1) | 0.30885529157667385 | 0.17829457364341086 |\n",
            "+-----------+---------------------+---------------------+\n",
            "| Season(2) | 0.24622030237580994 | 0.2467700258397933  |\n",
            "+-----------+---------------------+---------------------+\n",
            "| Season(3) | 0.17818574514038876 | 0.3372093023255814  |\n",
            "+-----------+---------------------+---------------------+\n",
            "CPD of Time:\n",
            "+---------+----------+\n",
            "| Time(0) | 0.277647 |\n",
            "+---------+----------+\n",
            "| Time(1) | 0.267647 |\n",
            "+---------+----------+\n",
            "| Time(2) | 0.267647 |\n",
            "+---------+----------+\n",
            "| Time(3) | 0.187059 |\n",
            "+---------+----------+\n",
            "CPD of Demand_Factor:\n",
            "+------------------+---------------------+---------------------+---------------------+---------------------+--------------------+---------------------+---------------------+---------------------+\n",
            "| Day              | Day(0)              | Day(0)              | Day(0)              | Day(0)              | Day(1)             | Day(1)              | Day(1)              | Day(1)              |\n",
            "+------------------+---------------------+---------------------+---------------------+---------------------+--------------------+---------------------+---------------------+---------------------+\n",
            "| Time             | Time(0)             | Time(1)             | Time(2)             | Time(3)             | Time(0)            | Time(1)             | Time(2)             | Time(3)             |\n",
            "+------------------+---------------------+---------------------+---------------------+---------------------+--------------------+---------------------+---------------------+---------------------+\n",
            "| Demand_Factor(0) | 0.42022116903633494 | 0.2592592592592593  | 0.22698412698412698 | 0.35585585585585583 | 0.5810983397190294 | 0.5026881720430108  | 0.41496598639455784 | 0.49215686274509807 |\n",
            "+------------------+---------------------+---------------------+---------------------+---------------------+--------------------+---------------------+---------------------+---------------------+\n",
            "| Demand_Factor(1) | 0.353870458135861   | 0.35104669887278583 | 0.2603174603174603  | 0.35585585585585583 | 0.2094508301404853 | 0.26881720430107525 | 0.308843537414966   | 0.25686274509803925 |\n",
            "+------------------+---------------------+---------------------+---------------------+---------------------+--------------------+---------------------+---------------------+---------------------+\n",
            "| Demand_Factor(2) | 0.22590837282780413 | 0.3896940418679549  | 0.5126984126984127  | 0.2882882882882883  | 0.2094508301404853 | 0.228494623655914   | 0.2761904761904762  | 0.2509803921568628  |\n",
            "+------------------+---------------------+---------------------+---------------------+---------------------+--------------------+---------------------+---------------------+---------------------+\n",
            "CPD of Day:\n",
            "+--------+----------+\n",
            "| Day(0) | 0.456471 |\n",
            "+--------+----------+\n",
            "| Day(1) | 0.543529 |\n",
            "+--------+----------+\n",
            "[bnlearn] >Plot based on BayesianModel\n"
          ],
          "name": "stdout"
        },
        {
          "output_type": "display_data",
          "data": {
            "image/png": "[encoded data removed]",
            "text/plain": [
              "<Figure size 1080x576 with 1 Axes>"
            ]
          },
          "metadata": {
            "tags": []
          }
        }
      ]
    },
    {
      "cell_type": "code",
      "metadata": {
        "colab": {
          "base_uri": "https://localhost:8080/"
        },
        "id": "Okn1aJN-jet-",
        "outputId": "56dba7ec-0c2b-4cac-d622-09af981052ca"
      },
      "source": [
        "# performing inference\n",
        "q_1 = bn.inference.fit(model_update, variables=['Day'], evidence={'Time':0,'Demand_Factor':1})\n"
      ],
      "execution_count": null,
      "outputs": [
        {
          "output_type": "stream",
          "text": [
            "Finding Elimination Order: : 100%|██████████| 5/5 [00:00<00:00, 1164.31it/s]\n",
            "Eliminating: Weather: 100%|██████████| 5/5 [00:00<00:00, 531.50it/s]"
          ],
          "name": "stderr"
        },
        {
          "output_type": "stream",
          "text": [
            "[bnlearn] >Variable Elimination..\n",
            "+--------+------------+\n",
            "| Day    |   phi(Day) |\n",
            "+========+============+\n",
            "| Day(0) |     0.5866 |\n",
            "+--------+------------+\n",
            "| Day(1) |     0.4134 |\n",
            "+--------+------------+\n"
          ],
          "name": "stdout"
        },
        {
          "output_type": "stream",
          "text": [
            "\n"
          ],
          "name": "stderr"
        }
      ]
    },
    {
      "cell_type": "code",
      "metadata": {
        "colab": {
          "base_uri": "https://localhost:8080/"
        },
        "id": "KeAuZS2yj-Dz",
        "outputId": "ad296532-a4f8-44c3-a8bd-e863962da273"
      },
      "source": [
        "# performing inference\n",
        "q_2 = bn.inference.fit(model_update, variables=['Demand_Factor'], evidence={'Overload':1,'Weather':0})\n"
      ],
      "execution_count": null,
      "outputs": [
        {
          "output_type": "stream",
          "text": [
            "Finding Elimination Order: : 100%|██████████| 5/5 [00:00<00:00, 894.77it/s]\n",
            "Eliminating: Outage_Duration: 100%|██████████| 5/5 [00:00<00:00, 337.80it/s]"
          ],
          "name": "stderr"
        },
        {
          "output_type": "stream",
          "text": [
            "[bnlearn] >Variable Elimination..\n",
            "+------------------+----------------------+\n",
            "| Demand_Factor    |   phi(Demand_Factor) |\n",
            "+==================+======================+\n",
            "| Demand_Factor(0) |               0.3331 |\n",
            "+------------------+----------------------+\n",
            "| Demand_Factor(1) |               0.2994 |\n",
            "+------------------+----------------------+\n",
            "| Demand_Factor(2) |               0.3675 |\n",
            "+------------------+----------------------+\n"
          ],
          "name": "stdout"
        },
        {
          "output_type": "stream",
          "text": [
            "\n"
          ],
          "name": "stderr"
        }
      ]
    },
    {
      "cell_type": "code",
      "metadata": {
        "colab": {
          "base_uri": "https://localhost:8080/"
        },
        "id": "n8_8S49Fk1y6",
        "outputId": "547f5f7e-b969-4c7b-f432-5ed56d9e6c23"
      },
      "source": [
        "# performing inference\n",
        "q_3 = bn.inference.fit(model_update, variables=['Number_of_Customers'], evidence={'Demand_Factor':2})\n"
      ],
      "execution_count": null,
      "outputs": [
        {
          "output_type": "stream",
          "text": [
            "Finding Elimination Order: : 100%|██████████| 6/6 [00:00<00:00, 1878.61it/s]\n",
            "Eliminating: Weather: 100%|██████████| 6/6 [00:00<00:00, 318.71it/s]"
          ],
          "name": "stderr"
        },
        {
          "output_type": "stream",
          "text": [
            "[bnlearn] >Variable Elimination..\n",
            "+------------------------+----------------------------+\n",
            "| Number_of_Customers    |   phi(Number_of_Customers) |\n",
            "+========================+============================+\n",
            "| Number_of_Customers(0) |                     0.5388 |\n",
            "+------------------------+----------------------------+\n",
            "| Number_of_Customers(1) |                     0.4612 |\n",
            "+------------------------+----------------------------+\n"
          ],
          "name": "stdout"
        },
        {
          "output_type": "stream",
          "text": [
            "\n"
          ],
          "name": "stderr"
        }
      ]
    }
  ]
}