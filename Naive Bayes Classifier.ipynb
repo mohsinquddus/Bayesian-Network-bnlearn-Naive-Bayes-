{
  "nbformat": 4,
  "nbformat_minor": 0,
  "metadata": {
    "colab": {
      "name": "Gaussian Naive Bayes.ipynb",
      "provenance": [],
      "collapsed_sections": []
    },
    "kernelspec": {
      "name": "python3",
      "display_name": "Python 3"
    }
  },
  "cells": [
    {
      "cell_type": "code",
      "metadata": {
        "colab": {
          "base_uri": "https://localhost:8080/"
        },
        "id": "EphCFsAHKpkK",
        "outputId": "501b49fc-f50e-4f68-bf01-f1605f68cc23"
      },
      "source": [
        "!pip install tabulate sklearn "
      ],
      "execution_count": 109,
      "outputs": [
        {
          "output_type": "stream",
          "text": [
            "Requirement already satisfied: tabulate in /usr/local/lib/python3.6/dist-packages (0.8.7)\n",
            "Requirement already satisfied: sklearn in /usr/local/lib/python3.6/dist-packages (0.0)\n",
            "Requirement already satisfied: scikit-learn in /usr/local/lib/python3.6/dist-packages (from sklearn) (0.22.2.post1)\n",
            "Requirement already satisfied: scipy>=0.17.0 in /usr/local/lib/python3.6/dist-packages (from scikit-learn->sklearn) (1.4.1)\n",
            "Requirement already satisfied: numpy>=1.11.0 in /usr/local/lib/python3.6/dist-packages (from scikit-learn->sklearn) (1.19.5)\n",
            "Requirement already satisfied: joblib>=0.11 in /usr/local/lib/python3.6/dist-packages (from scikit-learn->sklearn) (1.0.0)\n"
          ],
          "name": "stdout"
        }
      ]
    },
    {
      "cell_type": "code",
      "metadata": {
        "colab": {
          "base_uri": "https://localhost:8080/",
          "height": 208
        },
        "id": "VC4CDQ7nKxbW",
        "outputId": "d87bc682-c9c8-44e0-dac9-584eba4534ca"
      },
      "source": [
        "from IPython.display import HTML, display\n",
        "import tabulate\n",
        "tab_cat = [[\"Gender\", \"Education\", \"Income\", \"Has_pet\"],\n",
        "          [\"Female\", \"University\", 103000,   \"Yes\"],\n",
        "          [\"Female\", \"HighSchool\", 90500,   \"No\"],\n",
        "          [\"Female\", \"HighSchool\", 114000,   \"No\"],\n",
        "          [\"Male\",   \"University\", 102000,   \"No\"],\n",
        "          [\"Male\",   \"University\", 75000,   \"Yes\"],\n",
        "          [\"Male\",   \"HighSchool\", 90000,   \"No\"],\n",
        "          [\"Male\",   \"HighSchool\", 85000,   \"Yes\"],\n",
        "          [\"Male\",   \"University\", 86000,   \"No\"]]\n",
        "display(HTML(tabulate.tabulate(tab_cat, tablefmt='html')))"
      ],
      "execution_count": 110,
      "outputs": [
        {
          "output_type": "display_data",
          "data": {
            "text/html": [
              "<table>\n",
              "<tbody>\n",
              "<tr><td>Gender</td><td>Education </td><td>Income</td><td>Has_pet</td></tr>\n",
              "<tr><td>Female</td><td>University</td><td>103000</td><td>Yes    </td></tr>\n",
              "<tr><td>Female</td><td>HighSchool</td><td>90500 </td><td>No     </td></tr>\n",
              "<tr><td>Female</td><td>HighSchool</td><td>114000</td><td>No     </td></tr>\n",
              "<tr><td>Male  </td><td>University</td><td>102000</td><td>No     </td></tr>\n",
              "<tr><td>Male  </td><td>University</td><td>75000 </td><td>Yes    </td></tr>\n",
              "<tr><td>Male  </td><td>HighSchool</td><td>90000 </td><td>No     </td></tr>\n",
              "<tr><td>Male  </td><td>HighSchool</td><td>85000 </td><td>Yes    </td></tr>\n",
              "<tr><td>Male  </td><td>University</td><td>86000 </td><td>No     </td></tr>\n",
              "</tbody>\n",
              "</table>"
            ],
            "text/plain": [
              "<IPython.core.display.HTML object>"
            ]
          },
          "metadata": {
            "tags": []
          }
        }
      ]
    },
    {
      "cell_type": "code",
      "metadata": {
        "colab": {
          "base_uri": "https://localhost:8080/",
          "height": 231
        },
        "id": "A1XkvUpAev7G",
        "outputId": "3bddb09d-caf2-4521-9036-0dcca912d1be"
      },
      "source": [
        "# Task 2a\n",
        "tab_likelihood_gender = [\n",
        "    [\"likelihood\",\"-\",  \"Has_pet\", \"-\", \"-\"],\n",
        "    [\"-\",          \"-\",  \"Yes\", \"No\", \"P(Gender)\"],\n",
        "    [\"Gender\", \"Male\", \"2/3\", \"3/5\", \"5/8\"], \n",
        "    [\"-\", \"Female\",    \"1/3\", \"2/5\", \"3/8\"],\n",
        "    [\"-\", \"P(Has_pet)\",\"3/8\", \"5/8\", \"\"]\n",
        "]\n",
        "display(HTML(tabulate.tabulate(tab_likelihood_gender, tablefmt='html')))\n",
        "\n",
        "\n",
        "tab_likelihood_gender = [\n",
        "    [\"likelihood\",\"-\",  \"Has_pet\", \"-\", \"-\"],\n",
        "    [\"-\",          \"-\",  \"Yes\", \"No\", \"P(Education)\"],\n",
        "    [\"Education\", \"University\", \"2/3\", \"2/5\", \"1/2\"], \n",
        "    [\"-\", \"HighSchool\", \"1/3\", \"3/5\", \"1/2\"],\n",
        "    [\"-\", \"P(Has_pet)\", \"3/8\", \"5/8\", \"\"]\n",
        "]\n",
        "display(HTML(tabulate.tabulate(tab_likelihood_gender, tablefmt='html')))"
      ],
      "execution_count": 111,
      "outputs": [
        {
          "output_type": "display_data",
          "data": {
            "text/html": [
              "<table>\n",
              "<tbody>\n",
              "<tr><td>likelihood</td><td>-         </td><td>Has_pet</td><td>-  </td><td>-        </td></tr>\n",
              "<tr><td>-         </td><td>-         </td><td>Yes    </td><td>No </td><td>P(Gender)</td></tr>\n",
              "<tr><td>Gender    </td><td>Male      </td><td>2/3    </td><td>3/5</td><td>5/8      </td></tr>\n",
              "<tr><td>-         </td><td>Female    </td><td>1/3    </td><td>2/5</td><td>3/8      </td></tr>\n",
              "<tr><td>-         </td><td>P(Has_pet)</td><td>3/8    </td><td>5/8</td><td>         </td></tr>\n",
              "</tbody>\n",
              "</table>"
            ],
            "text/plain": [
              "<IPython.core.display.HTML object>"
            ]
          },
          "metadata": {
            "tags": []
          }
        },
        {
          "output_type": "display_data",
          "data": {
            "text/html": [
              "<table>\n",
              "<tbody>\n",
              "<tr><td>likelihood</td><td>-         </td><td>Has_pet</td><td>-  </td><td>-           </td></tr>\n",
              "<tr><td>-         </td><td>-         </td><td>Yes    </td><td>No </td><td>P(Education)</td></tr>\n",
              "<tr><td>Education </td><td>University</td><td>2/3    </td><td>2/5</td><td>1/2         </td></tr>\n",
              "<tr><td>-         </td><td>HighSchool</td><td>1/3    </td><td>3/5</td><td>1/2         </td></tr>\n",
              "<tr><td>-         </td><td>P(Has_pet)</td><td>3/8    </td><td>5/8</td><td>            </td></tr>\n",
              "</tbody>\n",
              "</table>"
            ],
            "text/plain": [
              "<IPython.core.display.HTML object>"
            ]
          },
          "metadata": {
            "tags": []
          }
        }
      ]
    },
    {
      "cell_type": "code",
      "metadata": {
        "colab": {
          "base_uri": "https://localhost:8080/"
        },
        "id": "shpUt-W4fPS5",
        "outputId": "2f3b2881-b99d-4b8f-a58f-b1072c7aefaf"
      },
      "source": [
        "#Task 2b\n",
        "#𝑃(No|Male) ,  𝑃(Yes|Female) \n",
        "#𝑃(Yes|Univeristy) ,  𝑃(No|HighSchool)\n",
        "𝑃_No_Male=3/5\n",
        "𝑃_Yes_Female_=1/3\n",
        "𝑃_Yes_Univeristy_=1/2\n",
        "𝑃_No_HighSchool=3/4\n",
        "print(\"𝑃(No|Male) =\",𝑃_No_Male)\n",
        "print(\"𝑃(Yes|Female) =\",𝑃_Yes_Female_)\n",
        "print(\"𝑃(Yes|Univeristy) =\",𝑃_Yes_Univeristy_)\n",
        "print(\"𝑃_No_HighSchool =\",𝑃_No_HighSchool)\n"
      ],
      "execution_count": 114,
      "outputs": [
        {
          "output_type": "stream",
          "text": [
            "𝑃(No|Male) = 0.6\n",
            "𝑃(Yes|Female) = 0.3333333333333333\n",
            "𝑃(Yes|Univeristy) = 0.5\n",
            "𝑃_No_HighSchool = 0.75\n"
          ],
          "name": "stdout"
        }
      ]
    },
    {
      "cell_type": "code",
      "metadata": {
        "colab": {
          "base_uri": "https://localhost:8080/"
        },
        "id": "ykrdJNtgiQHJ",
        "outputId": "946cf77e-94af-4758-c27a-73dd37fe2534"
      },
      "source": [
        "#Tast 2c\n",
        "Mean=0.375\n",
        "Standard_Deviation=0.4091\n",
        "Normal_Distribution=1.63157\n",
        "𝑃_Income_9000_Yes=0\n",
        "𝑃_Income_9000_No=1/5\n",
        "print(\"Mean =\",Mean)\n",
        "print(\"Standard Deviation =\",Standard_Deviation)\n",
        "print(\"Normal Distribution =\",Normal_Distribution)\n",
        "print(\"𝑃(Income=9000∣Yes) =\",𝑃_Income_9000_Yes)\n",
        "print(\"𝑃(Income=9000∣No) =\",𝑃_Income_9000_No)\n",
        "\n"
      ],
      "execution_count": 115,
      "outputs": [
        {
          "output_type": "stream",
          "text": [
            "Mean = 0.375\n",
            "Standard Deviation = 0.4091\n",
            "Normal Distribution = 1.63157\n",
            "𝑃(Income=9000∣Yes) = 0\n",
            "𝑃(Income=9000∣No) = 0.2\n"
          ],
          "name": "stdout"
        }
      ]
    },
    {
      "cell_type": "code",
      "metadata": {
        "id": "cSfVU-YBK4uC"
      },
      "source": [
        "#Conversion from simple list to DataFrame\n",
        "from pandas import DataFrame\n",
        "data = DataFrame (tab_cat[1:],columns=['Gender', 'Education', 'Income','Has_pet'])\n",
        "features=data.drop(['Has_pet'],axis=1)\n",
        "labels=data.drop(['Gender', 'Education', 'Income'],axis=1)"
      ],
      "execution_count": 116,
      "outputs": []
    },
    {
      "cell_type": "code",
      "metadata": {
        "id": "AZrFZKjdLPag"
      },
      "source": [
        "# Data Encodding/Preprocessing\n",
        "dHas_pet={\"Yes\":1,\"No\":0}\n",
        "labels[\"Has_pet\"]=labels[\"Has_pet\"].map(dHas_pet)\n",
        "\n",
        "dGender={\"Female\":0,\"Male\":1}\n",
        "features[\"Gender\"]=features[\"Gender\"].map(dGender)\n",
        "\n",
        "dGEducation={\"HighSchool\":0,\"University\":1}\n",
        "features[\"Education\"]=features[\"Education\"].map(dGEducation)\n"
      ],
      "execution_count": 117,
      "outputs": []
    },
    {
      "cell_type": "code",
      "metadata": {
        "id": "PzWWNmKaaehP"
      },
      "source": [
        "#Splitting X Train and Y Train\n",
        "x_Train=features.iloc[0:]\n",
        "y_Train=labels.iloc[0:]"
      ],
      "execution_count": 118,
      "outputs": []
    },
    {
      "cell_type": "code",
      "metadata": {
        "colab": {
          "base_uri": "https://localhost:8080/"
        },
        "id": "7neF1vSLh0o5",
        "outputId": "51b7fba0-0033-4c5b-a509-d455261b8208"
      },
      "source": [
        "# Model Fitting\n",
        "from sklearn.naive_bayes import GaussianNB\n",
        "model=GaussianNB(priors=None, var_smoothing=1e-09)\n",
        "model.fit(x_Train,y_Train.values.ravel())"
      ],
      "execution_count": 119,
      "outputs": [
        {
          "output_type": "execute_result",
          "data": {
            "text/plain": [
              "GaussianNB(priors=None, var_smoothing=1e-09)"
            ]
          },
          "metadata": {
            "tags": []
          },
          "execution_count": 119
        }
      ]
    },
    {
      "cell_type": "code",
      "metadata": {
        "colab": {
          "base_uri": "https://localhost:8080/"
        },
        "id": "KXq6CAtXrbhB",
        "outputId": "1cd57a9b-6c43-47d8-deda-edb9b1479fc2"
      },
      "source": [
        "#getting Accuracy Score\n",
        "from sklearn.metrics import accuracy_score\n",
        "pridiction=model.predict(x_Train)\n",
        "print(\"Performance:\",accuracy_score(pridiction,y_Train)*100,\"%\")"
      ],
      "execution_count": 120,
      "outputs": [
        {
          "output_type": "stream",
          "text": [
            "Performance: 62.5 %\n"
          ],
          "name": "stdout"
        }
      ]
    },
    {
      "cell_type": "code",
      "metadata": {
        "id": "YCE2A2eOoSlF",
        "colab": {
          "base_uri": "https://localhost:8080/"
        },
        "outputId": "7ea8a1ef-ddb0-4dfc-b632-bfa163df4750"
      },
      "source": [
        "#part 2d\n",
        "#𝑋=(𝐸𝑑𝑢𝑐𝑎𝑡𝑖𝑜𝑛=𝑈𝑛𝑖𝑣𝑒𝑟𝑠𝑖𝑡𝑦,𝐺𝑒𝑛𝑑𝑒𝑟=𝐹𝑒𝑚𝑎𝑙𝑒,𝐼𝑛𝑐𝑜𝑚𝑒=100000) \n",
        "#𝑋=(𝐸𝑑𝑢𝑐𝑎𝑡𝑖𝑜𝑛=𝐻𝑖𝑔ℎ𝑆𝑐ℎ𝑜𝑜𝑙,𝐺𝑒𝑛𝑑𝑒𝑟=𝑀𝑎𝑙𝑒,𝐼𝑛𝑐𝑜𝑚𝑒=92000)\n",
        "import pandas as pd\n",
        "# Data Encoding\n",
        "X1=[[1,0,100000]]\n",
        "X2=[[0,1,92000]]\n",
        "p1=model.predict(X1)\n",
        "p2=model.predict(X2)\n",
        "print(\"𝑋=(𝐸𝑑𝑢𝑐𝑎𝑡𝑖𝑜𝑛=𝑈𝑛𝑖𝑣𝑒𝑟𝑠𝑖𝑡𝑦,𝐺𝑒𝑛𝑑𝑒𝑟=𝐹𝑒𝑚𝑎𝑙𝑒,𝐼𝑛𝑐𝑜𝑚𝑒=100000) =\",p1)\n",
        "print(\"𝑋=(𝐸𝑑𝑢𝑐𝑎𝑡𝑖𝑜𝑛=𝐻𝑖𝑔ℎ𝑆𝑐ℎ𝑜𝑜𝑙,𝐺𝑒𝑛𝑑𝑒𝑟=𝑀𝑎𝑙𝑒,𝐼𝑛𝑐𝑜𝑚𝑒=92000) =\",p2)"
      ],
      "execution_count": 123,
      "outputs": [
        {
          "output_type": "stream",
          "text": [
            "𝑋=(𝐸𝑑𝑢𝑐𝑎𝑡𝑖𝑜𝑛=𝑈𝑛𝑖𝑣𝑒𝑟𝑠𝑖𝑡𝑦,𝐺𝑒𝑛𝑑𝑒𝑟=𝐹𝑒𝑚𝑎𝑙𝑒,𝐼𝑛𝑐𝑜𝑚𝑒=100000) = [0]\n",
            "𝑋=(𝐸𝑑𝑢𝑐𝑎𝑡𝑖𝑜𝑛=𝐻𝑖𝑔ℎ𝑆𝑐ℎ𝑜𝑜𝑙,𝐺𝑒𝑛𝑑𝑒𝑟=𝑀𝑎𝑙𝑒,𝐼𝑛𝑐𝑜𝑚𝑒=92000) = [0]\n"
          ],
          "name": "stdout"
        }
      ]
    },
    {
      "cell_type": "code",
      "metadata": {
        "colab": {
          "base_uri": "https://localhost:8080/"
        },
        "id": "ow2eQll7wz5M",
        "outputId": "0c48e09a-45be-41db-cc6d-0da6b3327cc2"
      },
      "source": [
        "#part 2e\n",
        "from sklearn.model_selection import train_test_split\n",
        "from sklearn.naive_bayes import GaussianNB\n",
        "from sklearn.metrics import accuracy_score\n",
        "from sklearn.datasets import load_iris\n",
        "iris = load_iris()\n",
        "X, y = iris[\"data\"], iris[\"target\"]\n",
        "print(\"data\", X)\n",
        "print(\"class/label\", y)\n",
        "Xtrain,Xtest,Ytrain,Ytest=train_test_split(X,y,test_size=0.3,random_state=1)\n",
        "model=GaussianNB()\n",
        "model.fit(Xtrain,Ytrain)\n",
        "pridiction=model.predict(Xtest)\n",
        "print(\"Performance:\",accuracy_score(pridiction,Ytest)*100,\"%\")\n",
        "\n"
      ],
      "execution_count": 124,
      "outputs": [
        {
          "output_type": "stream",
          "text": [
            "data [[5.1 3.5 1.4 0.2]\n",
            " [4.9 3.  1.4 0.2]\n",
            " [4.7 3.2 1.3 0.2]\n",
            " [4.6 3.1 1.5 0.2]\n",
            " [5.  3.6 1.4 0.2]\n",
            " [5.4 3.9 1.7 0.4]\n",
            " [4.6 3.4 1.4 0.3]\n",
            " [5.  3.4 1.5 0.2]\n",
            " [4.4 2.9 1.4 0.2]\n",
            " [4.9 3.1 1.5 0.1]\n",
            " [5.4 3.7 1.5 0.2]\n",
            " [4.8 3.4 1.6 0.2]\n",
            " [4.8 3.  1.4 0.1]\n",
            " [4.3 3.  1.1 0.1]\n",
            " [5.8 4.  1.2 0.2]\n",
            " [5.7 4.4 1.5 0.4]\n",
            " [5.4 3.9 1.3 0.4]\n",
            " [5.1 3.5 1.4 0.3]\n",
            " [5.7 3.8 1.7 0.3]\n",
            " [5.1 3.8 1.5 0.3]\n",
            " [5.4 3.4 1.7 0.2]\n",
            " [5.1 3.7 1.5 0.4]\n",
            " [4.6 3.6 1.  0.2]\n",
            " [5.1 3.3 1.7 0.5]\n",
            " [4.8 3.4 1.9 0.2]\n",
            " [5.  3.  1.6 0.2]\n",
            " [5.  3.4 1.6 0.4]\n",
            " [5.2 3.5 1.5 0.2]\n",
            " [5.2 3.4 1.4 0.2]\n",
            " [4.7 3.2 1.6 0.2]\n",
            " [4.8 3.1 1.6 0.2]\n",
            " [5.4 3.4 1.5 0.4]\n",
            " [5.2 4.1 1.5 0.1]\n",
            " [5.5 4.2 1.4 0.2]\n",
            " [4.9 3.1 1.5 0.2]\n",
            " [5.  3.2 1.2 0.2]\n",
            " [5.5 3.5 1.3 0.2]\n",
            " [4.9 3.6 1.4 0.1]\n",
            " [4.4 3.  1.3 0.2]\n",
            " [5.1 3.4 1.5 0.2]\n",
            " [5.  3.5 1.3 0.3]\n",
            " [4.5 2.3 1.3 0.3]\n",
            " [4.4 3.2 1.3 0.2]\n",
            " [5.  3.5 1.6 0.6]\n",
            " [5.1 3.8 1.9 0.4]\n",
            " [4.8 3.  1.4 0.3]\n",
            " [5.1 3.8 1.6 0.2]\n",
            " [4.6 3.2 1.4 0.2]\n",
            " [5.3 3.7 1.5 0.2]\n",
            " [5.  3.3 1.4 0.2]\n",
            " [7.  3.2 4.7 1.4]\n",
            " [6.4 3.2 4.5 1.5]\n",
            " [6.9 3.1 4.9 1.5]\n",
            " [5.5 2.3 4.  1.3]\n",
            " [6.5 2.8 4.6 1.5]\n",
            " [5.7 2.8 4.5 1.3]\n",
            " [6.3 3.3 4.7 1.6]\n",
            " [4.9 2.4 3.3 1. ]\n",
            " [6.6 2.9 4.6 1.3]\n",
            " [5.2 2.7 3.9 1.4]\n",
            " [5.  2.  3.5 1. ]\n",
            " [5.9 3.  4.2 1.5]\n",
            " [6.  2.2 4.  1. ]\n",
            " [6.1 2.9 4.7 1.4]\n",
            " [5.6 2.9 3.6 1.3]\n",
            " [6.7 3.1 4.4 1.4]\n",
            " [5.6 3.  4.5 1.5]\n",
            " [5.8 2.7 4.1 1. ]\n",
            " [6.2 2.2 4.5 1.5]\n",
            " [5.6 2.5 3.9 1.1]\n",
            " [5.9 3.2 4.8 1.8]\n",
            " [6.1 2.8 4.  1.3]\n",
            " [6.3 2.5 4.9 1.5]\n",
            " [6.1 2.8 4.7 1.2]\n",
            " [6.4 2.9 4.3 1.3]\n",
            " [6.6 3.  4.4 1.4]\n",
            " [6.8 2.8 4.8 1.4]\n",
            " [6.7 3.  5.  1.7]\n",
            " [6.  2.9 4.5 1.5]\n",
            " [5.7 2.6 3.5 1. ]\n",
            " [5.5 2.4 3.8 1.1]\n",
            " [5.5 2.4 3.7 1. ]\n",
            " [5.8 2.7 3.9 1.2]\n",
            " [6.  2.7 5.1 1.6]\n",
            " [5.4 3.  4.5 1.5]\n",
            " [6.  3.4 4.5 1.6]\n",
            " [6.7 3.1 4.7 1.5]\n",
            " [6.3 2.3 4.4 1.3]\n",
            " [5.6 3.  4.1 1.3]\n",
            " [5.5 2.5 4.  1.3]\n",
            " [5.5 2.6 4.4 1.2]\n",
            " [6.1 3.  4.6 1.4]\n",
            " [5.8 2.6 4.  1.2]\n",
            " [5.  2.3 3.3 1. ]\n",
            " [5.6 2.7 4.2 1.3]\n",
            " [5.7 3.  4.2 1.2]\n",
            " [5.7 2.9 4.2 1.3]\n",
            " [6.2 2.9 4.3 1.3]\n",
            " [5.1 2.5 3.  1.1]\n",
            " [5.7 2.8 4.1 1.3]\n",
            " [6.3 3.3 6.  2.5]\n",
            " [5.8 2.7 5.1 1.9]\n",
            " [7.1 3.  5.9 2.1]\n",
            " [6.3 2.9 5.6 1.8]\n",
            " [6.5 3.  5.8 2.2]\n",
            " [7.6 3.  6.6 2.1]\n",
            " [4.9 2.5 4.5 1.7]\n",
            " [7.3 2.9 6.3 1.8]\n",
            " [6.7 2.5 5.8 1.8]\n",
            " [7.2 3.6 6.1 2.5]\n",
            " [6.5 3.2 5.1 2. ]\n",
            " [6.4 2.7 5.3 1.9]\n",
            " [6.8 3.  5.5 2.1]\n",
            " [5.7 2.5 5.  2. ]\n",
            " [5.8 2.8 5.1 2.4]\n",
            " [6.4 3.2 5.3 2.3]\n",
            " [6.5 3.  5.5 1.8]\n",
            " [7.7 3.8 6.7 2.2]\n",
            " [7.7 2.6 6.9 2.3]\n",
            " [6.  2.2 5.  1.5]\n",
            " [6.9 3.2 5.7 2.3]\n",
            " [5.6 2.8 4.9 2. ]\n",
            " [7.7 2.8 6.7 2. ]\n",
            " [6.3 2.7 4.9 1.8]\n",
            " [6.7 3.3 5.7 2.1]\n",
            " [7.2 3.2 6.  1.8]\n",
            " [6.2 2.8 4.8 1.8]\n",
            " [6.1 3.  4.9 1.8]\n",
            " [6.4 2.8 5.6 2.1]\n",
            " [7.2 3.  5.8 1.6]\n",
            " [7.4 2.8 6.1 1.9]\n",
            " [7.9 3.8 6.4 2. ]\n",
            " [6.4 2.8 5.6 2.2]\n",
            " [6.3 2.8 5.1 1.5]\n",
            " [6.1 2.6 5.6 1.4]\n",
            " [7.7 3.  6.1 2.3]\n",
            " [6.3 3.4 5.6 2.4]\n",
            " [6.4 3.1 5.5 1.8]\n",
            " [6.  3.  4.8 1.8]\n",
            " [6.9 3.1 5.4 2.1]\n",
            " [6.7 3.1 5.6 2.4]\n",
            " [6.9 3.1 5.1 2.3]\n",
            " [5.8 2.7 5.1 1.9]\n",
            " [6.8 3.2 5.9 2.3]\n",
            " [6.7 3.3 5.7 2.5]\n",
            " [6.7 3.  5.2 2.3]\n",
            " [6.3 2.5 5.  1.9]\n",
            " [6.5 3.  5.2 2. ]\n",
            " [6.2 3.4 5.4 2.3]\n",
            " [5.9 3.  5.1 1.8]]\n",
            "class/label [0 0 0 0 0 0 0 0 0 0 0 0 0 0 0 0 0 0 0 0 0 0 0 0 0 0 0 0 0 0 0 0 0 0 0 0 0\n",
            " 0 0 0 0 0 0 0 0 0 0 0 0 0 1 1 1 1 1 1 1 1 1 1 1 1 1 1 1 1 1 1 1 1 1 1 1 1\n",
            " 1 1 1 1 1 1 1 1 1 1 1 1 1 1 1 1 1 1 1 1 1 1 1 1 1 1 2 2 2 2 2 2 2 2 2 2 2\n",
            " 2 2 2 2 2 2 2 2 2 2 2 2 2 2 2 2 2 2 2 2 2 2 2 2 2 2 2 2 2 2 2 2 2 2 2 2 2\n",
            " 2 2]\n",
            "Performance: 93.33333333333333 %\n"
          ],
          "name": "stdout"
        }
      ]
    }
  ]
}